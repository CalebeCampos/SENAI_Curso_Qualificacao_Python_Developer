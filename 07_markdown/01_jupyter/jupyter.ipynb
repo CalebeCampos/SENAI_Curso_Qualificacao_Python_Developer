{
 "cells": [
  {
   "cell_type": "markdown",
   "id": "15b66a30",
   "metadata": {},
   "source": [
    "Aqui eu posso digitar meu texto normalmente."
   ]
  },
  {
   "cell_type": "markdown",
   "id": "92a56399",
   "metadata": {},
   "source": [
    "Novo markdown adicionado abaixo do texto acima."
   ]
  },
  {
   "cell_type": "markdown",
   "id": "140ffba6",
   "metadata": {},
   "source": [
    "# TITULO NUMERO 1"
   ]
  },
  {
   "cell_type": "markdown",
   "id": "c3ffdf2b",
   "metadata": {},
   "source": [
    "## TITULO NUMERO 2"
   ]
  },
  {
   "cell_type": "markdown",
   "id": "92f6a399",
   "metadata": {},
   "source": [
    "### TITULO NUMERO 3"
   ]
  },
  {
   "cell_type": "markdown",
   "id": "f4bb5865",
   "metadata": {},
   "source": [
    "#### TITULO NUMERO 4"
   ]
  },
  {
   "cell_type": "markdown",
   "id": "615625ef",
   "metadata": {},
   "source": [
    "Adicionando uma linha horizontal"
   ]
  },
  {
   "cell_type": "markdown",
   "id": "5a55609c",
   "metadata": {},
   "source": [
    "---"
   ]
  },
  {
   "cell_type": "markdown",
   "id": "01776f07",
   "metadata": {},
   "source": [
    "Exemplificar um codigo em python `print(\"Olá mundo!\")`"
   ]
  },
  {
   "cell_type": "markdown",
   "id": "b91443bc",
   "metadata": {},
   "source": [
    "Destacando um trecho de linguagem em Java `System.out.println(\"Olá mundo\");`"
   ]
  },
  {
   "cell_type": "markdown",
   "id": "47b674d4",
   "metadata": {},
   "source": [
    "Destacando um bloco de codigo em Java:\n",
    "\n",
    "~~~Java\n",
    "public class App {\n",
    "    public static void main(String[] args) throws Exception {\n",
    "        System.out.println(\"Olá mundo!\");\n",
    "    }\n",
    "}\n",
    "~~~"
   ]
  },
  {
   "cell_type": "markdown",
   "id": "342fd044",
   "metadata": {},
   "source": [
    "Adicionando uma celula de codigo abaixo:"
   ]
  },
  {
   "cell_type": "code",
   "execution_count": 1,
   "id": "2ce13ac3",
   "metadata": {},
   "outputs": [
    {
     "name": "stdout",
     "output_type": "stream",
     "text": [
      "Olá mundo!\n"
     ]
    }
   ],
   "source": [
    "print(\"Olá mundo!\")"
   ]
  }
 ],
 "metadata": {
  "kernelspec": {
   "display_name": ".venv",
   "language": "python",
   "name": "python3"
  },
  "language_info": {
   "codemirror_mode": {
    "name": "ipython",
    "version": 3
   },
   "file_extension": ".py",
   "mimetype": "text/x-python",
   "name": "python",
   "nbconvert_exporter": "python",
   "pygments_lexer": "ipython3",
   "version": "3.13.4"
  }
 },
 "nbformat": 4,
 "nbformat_minor": 5
}
